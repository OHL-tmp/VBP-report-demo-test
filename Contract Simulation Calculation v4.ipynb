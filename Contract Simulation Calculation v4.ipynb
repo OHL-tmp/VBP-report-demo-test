{
 "cells": [
  {
   "cell_type": "code",
   "execution_count": 1,
   "metadata": {
    "ExecuteTime": {
     "end_time": "2020-06-04T13:41:46.122236Z",
     "start_time": "2020-06-04T13:41:44.829294Z"
    }
   },
   "outputs": [],
   "source": [
    "import numpy as np\n",
    "import pandas as pd\n",
    "from scipy import interpolate"
   ]
  },
  {
   "cell_type": "code",
   "execution_count": 2,
   "metadata": {
    "ExecuteTime": {
     "end_time": "2020-06-04T13:41:46.360387Z",
     "start_time": "2020-06-04T13:41:46.268553Z"
    }
   },
   "outputs": [],
   "source": [
    "def Contract_Calculation(Recom_Contract, UD_Measure,UD_Contract,UD_Pt_Cohort,Rebate_noVBC_flat, Rebate_VBC_flat,Rebate_noVBC_table,Rebate_VBC_table, MarketShare_table,Entresto_Utilizer_Perc,Script_PMPM):    \n",
    "  \n",
    "    import numpy as np\n",
    "    import pandas as pd\n",
    "    from scipy import interpolate\n",
    "\n",
    "    # Pre-determined input\n",
    "    \n",
    "    CHF_Pt=150000*0.136\n",
    "    Cost_per_Script_Gross=580\n",
    "    \n",
    "    Recom_Pt_cohort=UD_Pt_Cohort\n",
    "    Performance_assumption=pd.read_csv('data/performance_assumption.csv')\n",
    "    Performance_assumption.set_index(['Cohort','Measure'],inplace=True)\n",
    "    Recom_Measure_all=pd.read_csv('data/recom_measure.csv')\n",
    "    Recom_Measure_all.set_index(['Cohort','Measure'],inplace=True)\n",
    "    Recom_Measure=Recom_Measure_all.loc[Recom_Pt_cohort]\n",
    "    Pt_Info=pd.read_csv('data/patient_cohort_basic_info.csv')\n",
    "    #Recom_Contract=pd.read_csv('C:\\\\Users\\\\wuyabo\\\\Recom_contract.csv')\n",
    "    \n",
    "    Recom_Performance_assumption=[]\n",
    "    UD_Performance_assumption=[]\n",
    "    Recom_Merge=[]\n",
    "    UD_Merge=[]\n",
    "    Recom_Rebate_Adj_Perc=[]\n",
    "    UD_Rebate_Adj_Perc=[]\n",
    "\n",
    "    #Calculate Total Script and Gross Revenue\n",
    "    \n",
    "    Entresto_Utilizer=CHF_Pt*Entresto_Utilizer_Perc\n",
    "    Ultimate_MarketShare=MarketShare_table['MarketShare'].max()\n",
    "    MarketShare_table['MM']=MarketShare_table['MarketShare']/Ultimate_MarketShare*Entresto_Utilizer\n",
    "    Total_MM=MarketShare_table['MM'].sum()\n",
    "    Total_Script=Total_MM*Script_PMPM\n",
    "    Gross_Revenue=Cost_per_Script_Gross*Total_Script/1000000\n",
    "    \n",
    "    #Calculate Rebate\n",
    "    \n",
    "    if Rebate_noVBC_table.shape[0]==0:\n",
    "        Rebate_noVBC=Rebate_noVBC_flat\n",
    "    else:\n",
    "        for i in range(4):\n",
    "            if Ultimate_MarketShare>=Rebate_noVBC_table.iat[i,0] and Ultimate_MarketShare<=Rebate_noVBC_table.iat[i,1]:\n",
    "                row_num=i\n",
    "        Rebate_noVBC=Rebate_noVBC_table.iat[row_num,2]\n",
    "    \n",
    "    if Rebate_VBC_table.shape[0]==0:\n",
    "        Rebate_VBC=Rebate_VBC_flat\n",
    "    else:\n",
    "        for i in range(4):\n",
    "            if Ultimate_MarketShare>=Rebate_VBC_table.iat[i,0] and Ultimate_MarketShare<=Rebate_VBC_table.iat[i,1]:\n",
    "                row_num=i\n",
    "        Rebate_VBC=Rebate_VBC_table.iat[row_num,2]\n",
    "\n",
    "    # Calculate financial results    \n",
    "        \n",
    "    Type = ['Recom','UD']\n",
    "    Pt_cohort={'Recom':Recom_Pt_cohort , 'UD': UD_Pt_Cohort} \n",
    "    Contract_name={'Recom':Recom_Contract,'UD':UD_Contract}    \n",
    "    Performance_assumption_name={'Recom':Recom_Performance_assumption,'UD':UD_Performance_assumption}\n",
    "    Merge_name={'Recom':Recom_Merge,'UD':UD_Merge}\n",
    "    Measure_name={'Recom':Recom_Measure,'UD':UD_Measure}\n",
    "    Rebate_Adj_Perc={'Recom':Recom_Rebate_Adj_Perc,'UD':UD_Rebate_Adj_Perc}\n",
    "    Rebate = {'noVBC': Rebate_noVBC, 'VBC': Rebate_VBC} \n",
    "    \n",
    "    Type = ['Recom','UD']   \n",
    "    Scenario_list=['Worst','Worse','Mid','Better','Best']\n",
    "    VBC_list=['noVBC','VBC']\n",
    "    \n",
    "    for i in Type:\n",
    "        Performance_assumption_name[i]=Performance_assumption.loc[Pt_cohort[i]]\n",
    "        \n",
    "        for scenario in Scenario_list:\n",
    "            for VBC in VBC_list:\n",
    "                Performance_assumption_name[i]['total_'+scenario+'_'+VBC]=Performance_assumption_name[i]['Medical_'+scenario]+Performance_assumption_name[i]['Rx_Before_Rebate_'+scenario]*(1-Rebate[VBC])\n",
    "                Performance_assumption_name[i]['total_'+scenario+'_'+VBC].fillna(Performance_assumption_name[i]['Medical_'+scenario],inplace=True)\n",
    "        \n",
    "        Merge_name[i]=Measure_name[i].merge(Performance_assumption_name[i],left_on='Measure', right_on='Measure', suffixes=(False, False))\n",
    "        \n",
    "        Merge_name[i]['Worse_Diff']= Merge_name[i]['total_Worse_VBC'].astype(float)- Merge_name[i]['Target'].astype(float)\n",
    "        Merge_name[i]['Worse_Perc']=np.where( Merge_name[i]['Scoring Method']==1,1+ Merge_name[i]['Worse_Diff']/ Merge_name[i]['Target'],1- Merge_name[i]['Worse_Diff']/ Merge_name[i]['Target'])\n",
    "        Merge_name[i]['Mid_Diff']= Merge_name[i]['total_Mid_VBC'].astype(float)- Merge_name[i]['Target'].astype(float)\n",
    "        Merge_name[i]['Mid_Perc']=np.where( Merge_name[i]['Scoring Method']==1,1+ Merge_name[i]['Mid_Diff']/ Merge_name[i]['Target'],1- Merge_name[i]['Mid_Diff']/ Merge_name[i]['Target'])\n",
    "        Merge_name[i]['Better_Diff']= Merge_name[i]['total_Better_VBC'].astype(float)- Merge_name[i]['Target'].astype(float)\n",
    "        Merge_name[i]['Better_Perc']=np.where( Merge_name[i]['Scoring Method']==1,1+ Merge_name[i]['Better_Diff']/ Merge_name[i]['Target'],1- Merge_name[i]['Better_Diff']/ Merge_name[i]['Target'])\n",
    "            \n",
    "        Worse_Performance=Merge_name[i]['Weight'].dot(Merge_name[i]['Worse_Perc'])\n",
    "        Mid_Performance=Merge_name[i]['Weight'].dot(Merge_name[i]['Mid_Perc'])\n",
    "        Better_Performance=Merge_name[i]['Weight'].dot(Merge_name[i]['Better_Perc'])\n",
    "        \n",
    "        x=[0,Contract_name[i].iloc[0][4],Contract_name[i].iloc[0][3],Contract_name[i].iloc[0][0],Contract_name[i].iloc[0][1],999]\n",
    "        y=[Contract_name[i].iloc[0][5],Contract_name[i].iloc[0][5],0,0,Contract_name[i].iloc[0][2],Contract_name[i].iloc[0][2]]\n",
    "        f = interpolate.interp1d(x, y)\n",
    "        Rebate_Adj_Perc[i]=[f(Mid_Performance),Contract_name[i].iloc[0][5],Contract_name[i].iloc[0][2],f(Worse_Performance),f(Better_Performance)]\n",
    "    \n",
    "    #Produce output table - Pharma's net revenue  \n",
    "    \n",
    "    data = {'Scenario': ['Best Estimate', 'Worst', 'Best', 'Lower End', 'Higher End'], \n",
    "                'NoVBC Gross Revenue': [Gross_Revenue, 'NA', 'NA','NA','NA'], \n",
    "                'NoVBC Base Rebate Payout': [Gross_Revenue*Rebate_noVBC, 'NA', 'NA','NA','NA'], \n",
    "                'NoVBC Outcome Based Rebate Adjustment': [0, 'NA', 'NA','NA','NA'], \n",
    "                'NoVBC Net Rebate Payout': [Gross_Revenue*Rebate_noVBC, 'NA', 'NA','NA','NA'], \n",
    "                'NoVBC Net Revenue': [Gross_Revenue-Gross_Revenue*Rebate_noVBC, 'NA', 'NA','NA','NA']} \n",
    "    Output_Pharma_Net_Revenue = pd.DataFrame(data) \n",
    "    \n",
    "    for i in Type:\n",
    "        Output_Pharma_Net_Revenue[i+ 'VBC Gross Revenue']=Gross_Revenue\n",
    "        Output_Pharma_Net_Revenue[i+'VBC Base Rebate Payout']=Gross_Revenue*Rebate_VBC\n",
    "        Output_Pharma_Net_Revenue[i+'VBC Outcome Based Rebate Adjustment']=Output_Pharma_Net_Revenue[i+'VBC Gross Revenue']*Rebate_Adj_Perc[i]*(-1)\n",
    "        Output_Pharma_Net_Revenue[i+'VBC Net Rebate Payout']=Output_Pharma_Net_Revenue[i+'VBC Base Rebate Payout']+Output_Pharma_Net_Revenue[i+'VBC Outcome Based Rebate Adjustment']\n",
    "        Output_Pharma_Net_Revenue[i+'VBC Net Revenue']=Output_Pharma_Net_Revenue[i+'VBC Gross Revenue']-Output_Pharma_Net_Revenue[i+'VBC Net Rebate Payout']\n",
    "    \n",
    "    #Produce output table - Plan's medical cost\n",
    "    \n",
    "    Baseline=Pt_Info.loc[Pt_Info['Population'] == UD_Pt_Cohort]\n",
    "    \n",
    "    NoVBC_Cost=Merge_name['UD'][['total_Mid_noVBC', 'total_Worst_noVBC','total_Best_noVBC','total_Worse_noVBC','total_Better_noVBC']].iloc[0]\n",
    "    \n",
    "    RecomVBC_Cost=Merge_name['Recom'][['total_Mid_VBC', 'total_Worst_VBC','total_Best_VBC','total_Worse_VBC','total_Better_VBC']].iloc[0]\n",
    "    UDVBC_Cost=Merge_name['UD'][['total_Mid_VBC', 'total_Worst_VBC','total_Best_VBC','total_Worse_VBC','total_Better_VBC']].iloc[0]\n",
    "    \n",
    "    data = {'Scenario': ['Best Estimate', 'Worst', 'Best', 'Lower End', 'Higher End'], \n",
    "                'Baseline Total Cost': [Baseline.iat[0,1]*Baseline.iat[0,2]/1000000, 'NA', 'NA','NA','NA'],\n",
    "                'NoVBC Total Cost':[x * Baseline.iat[0,1]/1000000 for x in NoVBC_Cost],\n",
    "                'NoVBC Rebate Adjustment':[0,0,0,0,0],\n",
    "                'NoVBC Total Cost (After Rebate Adj)':[x * Baseline.iat[0,1]/1000000 for x in NoVBC_Cost],\n",
    "                'RecomVBC Total Cost':[x * Baseline.iat[0,1]/1000000 for x in RecomVBC_Cost]}\n",
    "\n",
    "    Output_Medical_Cost=pd.DataFrame(data) \n",
    "\n",
    "    Output_Medical_Cost['RecomVBC Rebate Adjustment']=-Output_Pharma_Net_Revenue['RecomVBC Outcome Based Rebate Adjustment']\n",
    "    Output_Medical_Cost['RecomVBC Total Cost (After Rebate Adj)']=Output_Medical_Cost['RecomVBC Total Cost']+Output_Medical_Cost['RecomVBC Rebate Adjustment']\n",
    "\n",
    "    Output_Medical_Cost['UDVBC Total Cost']=[x * Baseline.iat[0,1]/1000000 for x in UDVBC_Cost]\n",
    "    Output_Medical_Cost['UDVBC Rebate Adjustment']=-Output_Pharma_Net_Revenue['UDVBC Outcome Based Rebate Adjustment']\n",
    "    Output_Medical_Cost['UDVBC Total Cost (After Rebate Adj)']=Output_Medical_Cost['UDVBC Total Cost']+Output_Medical_Cost['UDVBC Rebate Adjustment']\n",
    "\n",
    "    Output_Medical_Cost=Output_Medical_Cost.T\n",
    "    header=Output_Medical_Cost.iloc[0]\n",
    "    Output_Medical_Cost=Output_Medical_Cost[1:]\n",
    "    Output_Medical_Cost.columns=header\n",
    "    \n",
    "    Output_Medical_Cost.insert(0, 'Contract Type',['Baseline']*1+ ['Contract w/o VBC Payout']*3+['Contract with VBC Payout (Recommended)']*3+['Contract with VBC Payout (User Defined)']*3)\n",
    "    Output_Medical_Cost.insert(1, 'Item',['Total Cost']*1+ ['Total Cost','Rebate Adjustment','Total Cost (After Rebate Adj)']*3)\n",
    "    \n",
    "    Output_Medical_Cost.reset_index()  \n",
    "    Output_Medical_Cost.set_index(['Contract Type'],inplace=True)\n",
    "    \n",
    "     #Transpose pharma net revenue table\n",
    "    \n",
    "    Output_Pharma_Net_Revenue=Output_Pharma_Net_Revenue.T\n",
    "    header=Output_Pharma_Net_Revenue.iloc[0]\n",
    "    Output_Pharma_Net_Revenue=Output_Pharma_Net_Revenue[1:]\n",
    "    Output_Pharma_Net_Revenue.columns=header\n",
    "    \n",
    "    Output_Pharma_Net_Revenue.insert(0, 'Contract Type', ['Contract w/o VBC Payout']*5+['Contract with VBC Payout (Recommended)']*5+['Contract with VBC Payout (User Defined)']*5)\n",
    "    Output_Pharma_Net_Revenue.insert(1, 'Item', ['Gross Revenue','Base Rebate Payout','Outcome Based Rebate Adjustment','Net Rebate Payout','Net Revenue']*3)\n",
    "    \n",
    "        \n",
    "    #Produce output table - Pharma's rebate payout\n",
    "    \n",
    "    Output_Rebate = Output_Pharma_Net_Revenue[Output_Pharma_Net_Revenue['Item'].str.contains('Rebate')]\n",
    "    Output_Pharma_Net_Revenue.reset_index()\n",
    "    pos=[1,2,6,7,11,12]\n",
    "    Output_Pharma_Net_Revenue.drop(Output_Pharma_Net_Revenue.index[pos], inplace=True)\n",
    "    Output_Pharma_Net_Revenue.set_index(['Contract Type'],inplace=True)\n",
    "    Output_Rebate.set_index(['Contract Type'],inplace=True)\n",
    " \n",
    "    return Output_Pharma_Net_Revenue,Output_Rebate, Output_Medical_Cost\n",
    "#    return  Output_Pharma_Net_Revenue, Output_Rebate,Output_Medical_Cost"
   ]
  },
  {
   "cell_type": "code",
   "execution_count": 3,
   "metadata": {
    "ExecuteTime": {
     "end_time": "2020-06-04T13:41:49.071473Z",
     "start_time": "2020-06-04T13:41:48.889416Z"
    }
   },
   "outputs": [
    {
     "name": "stderr",
     "output_type": "stream",
     "text": [
      "C:\\ProgramData\\Anaconda3\\lib\\site-packages\\ipykernel_launcher.py:75: SettingWithCopyWarning: \n",
      "A value is trying to be set on a copy of a slice from a DataFrame.\n",
      "Try using .loc[row_indexer,col_indexer] = value instead\n",
      "\n",
      "See the caveats in the documentation: http://pandas.pydata.org/pandas-docs/stable/user_guide/indexing.html#returning-a-view-versus-a-copy\n",
      "C:\\ProgramData\\Anaconda3\\lib\\site-packages\\pandas\\core\\generic.py:6287: SettingWithCopyWarning: \n",
      "A value is trying to be set on a copy of a slice from a DataFrame\n",
      "\n",
      "See the caveats in the documentation: http://pandas.pydata.org/pandas-docs/stable/user_guide/indexing.html#returning-a-view-versus-a-copy\n",
      "  self._update_inplace(new_data)\n"
     ]
    }
   ],
   "source": [
    "data={'Marketshare_L':[0,0.05,0.1,0.15],\n",
    "     'Marketshare_H':[0.05,0.1,0.15,0.20],\n",
    "     'Rebate':[0.3,0.35,0.4,0.45]}\n",
    "\n",
    "Rebate_noVBC_table=pd.DataFrame(data, columns = ['Marketshare_L', 'Marketshare_H', 'Rebate']) \n",
    "\n",
    "data={'Marketshare_L':[0,0.05,0.1,0.15],\n",
    "     'Marketshare_H':[0.05,0.1,0.15,0.20],\n",
    "     'Rebate':[0.3,0.35,0.35,0.45]}\n",
    "\n",
    "Rebate_VBC_table=pd.DataFrame(data, columns = ['Marketshare_L', 'Marketshare_H', 'Rebate']) \n",
    "\n",
    "data={'Month':[1,2,3,4,5,6,7,8,9,10,11,12],\n",
    "      'MarketShare':[0.02,0.03,0.04,0.05,0.06,0.06,0.06,0.06,0.06,0.06,0.06,0.06]}\n",
    "\n",
    "MarketShare_table=pd.DataFrame(data, columns = ['Month','MarketShare']) \n",
    "\n",
    "data = {'Measure': ['CHF Related Average Cost per Patient', 'CHF Related Hospitalization Rate', 'NT-proBNP Change %','LVEF LS Mean Change %'], \n",
    "                'Target': [33162, 978, -0.3,0.05], \n",
    "                'Weight': [0.5,0.25,0,0.25]} \n",
    "UD_Measure = pd.DataFrame(data, columns = ['Measure', 'Target', 'Weight']) \n",
    "\n",
    "data = {'Perf_Range_U_Min': [1], \n",
    "                'Perf_Range_U_Max': [1.2], \n",
    "                'Adj_Limit_U': [0.2],\n",
    "                'Perf_Range_L_Min': [1],\n",
    "                'Perf_Range_L_Max': [0.8],\n",
    "                'Adj_Limit_L': [-0.2]} \n",
    "UD_Contract = pd.DataFrame(data, columns = ['Perf_Range_U_Min','Perf_Range_U_Max','Adj_Limit_U','Perf_Range_L_Min','Perf_Range_L_Max', 'Adj_Limit_L']) \n",
    "data = {'Perf_Range_U_Min': [1], \n",
    "                'Perf_Range_U_Max': [1.2], \n",
    "                'Adj_Limit_U': [0.15],\n",
    "                'Perf_Range_L_Min': [1],\n",
    "                'Perf_Range_L_Max': [0.8],\n",
    "                'Adj_Limit_L': [-0.15]} \n",
    "Recom_Contract = pd.DataFrame(data, columns = ['Perf_Range_U_Min','Perf_Range_U_Max','Adj_Limit_U','Perf_Range_L_Min','Perf_Range_L_Max', 'Adj_Limit_L']) \n",
    "Rebate_noVBC_flat=0.1\n",
    "Rebate_VBC_flat=0.1\n",
    "Entresto_Utilizer_Perc=0.07\n",
    "Script_PMPM=0.8\n",
    "t1,t2,t3=Contract_Calculation(Recom_Contract, UD_Measure,UD_Contract,'CHF+AF (Recommended)', Rebate_noVBC_flat, Rebate_VBC_flat,Rebate_noVBC_table,Rebate_VBC_table, MarketShare_table,Entresto_Utilizer_Perc,Script_PMPM)"
   ]
  },
  {
   "cell_type": "code",
   "execution_count": 4,
   "metadata": {
    "ExecuteTime": {
     "end_time": "2020-06-04T13:41:50.587833Z",
     "start_time": "2020-06-04T13:41:50.568268Z"
    }
   },
   "outputs": [
    {
     "data": {
      "text/html": [
       "<div>\n",
       "<style scoped>\n",
       "    .dataframe tbody tr th:only-of-type {\n",
       "        vertical-align: middle;\n",
       "    }\n",
       "\n",
       "    .dataframe tbody tr th {\n",
       "        vertical-align: top;\n",
       "    }\n",
       "\n",
       "    .dataframe thead th {\n",
       "        text-align: right;\n",
       "    }\n",
       "</style>\n",
       "<table border=\"1\" class=\"dataframe\">\n",
       "  <thead>\n",
       "    <tr style=\"text-align: right;\">\n",
       "      <th>Scenario</th>\n",
       "      <th>Item</th>\n",
       "      <th>Best Estimate</th>\n",
       "      <th>Worst</th>\n",
       "      <th>Best</th>\n",
       "      <th>Lower End</th>\n",
       "      <th>Higher End</th>\n",
       "    </tr>\n",
       "    <tr>\n",
       "      <th>Contract Type</th>\n",
       "      <th></th>\n",
       "      <th></th>\n",
       "      <th></th>\n",
       "      <th></th>\n",
       "      <th></th>\n",
       "      <th></th>\n",
       "    </tr>\n",
       "  </thead>\n",
       "  <tbody>\n",
       "    <tr>\n",
       "      <td>Contract w/o VBC Payout</td>\n",
       "      <td>Gross Revenue</td>\n",
       "      <td>6.84678</td>\n",
       "      <td>NA</td>\n",
       "      <td>NA</td>\n",
       "      <td>NA</td>\n",
       "      <td>NA</td>\n",
       "    </tr>\n",
       "    <tr>\n",
       "      <td>Contract w/o VBC Payout</td>\n",
       "      <td>Net Rebate Payout</td>\n",
       "      <td>2.39637</td>\n",
       "      <td>NA</td>\n",
       "      <td>NA</td>\n",
       "      <td>NA</td>\n",
       "      <td>NA</td>\n",
       "    </tr>\n",
       "    <tr>\n",
       "      <td>Contract w/o VBC Payout</td>\n",
       "      <td>Net Revenue</td>\n",
       "      <td>4.45041</td>\n",
       "      <td>NA</td>\n",
       "      <td>NA</td>\n",
       "      <td>NA</td>\n",
       "      <td>NA</td>\n",
       "    </tr>\n",
       "    <tr>\n",
       "      <td>Contract with VBC Payout (Recommended)</td>\n",
       "      <td>Gross Revenue</td>\n",
       "      <td>6.84678</td>\n",
       "      <td>6.84678</td>\n",
       "      <td>6.84678</td>\n",
       "      <td>6.84678</td>\n",
       "      <td>6.84678</td>\n",
       "    </tr>\n",
       "    <tr>\n",
       "      <td>Contract with VBC Payout (Recommended)</td>\n",
       "      <td>Net Rebate Payout</td>\n",
       "      <td>2.39323</td>\n",
       "      <td>3.42339</td>\n",
       "      <td>1.36936</td>\n",
       "      <td>2.75901</td>\n",
       "      <td>2.02588</td>\n",
       "    </tr>\n",
       "    <tr>\n",
       "      <td>Contract with VBC Payout (Recommended)</td>\n",
       "      <td>Net Revenue</td>\n",
       "      <td>4.45355</td>\n",
       "      <td>3.42339</td>\n",
       "      <td>5.47743</td>\n",
       "      <td>4.08777</td>\n",
       "      <td>4.8209</td>\n",
       "    </tr>\n",
       "    <tr>\n",
       "      <td>Contract with VBC Payout (User Defined)</td>\n",
       "      <td>Gross Revenue</td>\n",
       "      <td>6.84678</td>\n",
       "      <td>6.84678</td>\n",
       "      <td>6.84678</td>\n",
       "      <td>6.84678</td>\n",
       "      <td>6.84678</td>\n",
       "    </tr>\n",
       "    <tr>\n",
       "      <td>Contract with VBC Payout (User Defined)</td>\n",
       "      <td>Net Rebate Payout</td>\n",
       "      <td>2.03176</td>\n",
       "      <td>3.76573</td>\n",
       "      <td>1.02702</td>\n",
       "      <td>2.44184</td>\n",
       "      <td>1.61992</td>\n",
       "    </tr>\n",
       "    <tr>\n",
       "      <td>Contract with VBC Payout (User Defined)</td>\n",
       "      <td>Net Revenue</td>\n",
       "      <td>4.81503</td>\n",
       "      <td>3.08105</td>\n",
       "      <td>5.81977</td>\n",
       "      <td>4.40494</td>\n",
       "      <td>5.22686</td>\n",
       "    </tr>\n",
       "  </tbody>\n",
       "</table>\n",
       "</div>"
      ],
      "text/plain": [
       "Scenario                                              Item Best Estimate  \\\n",
       "Contract Type                                                              \n",
       "Contract w/o VBC Payout                      Gross Revenue       6.84678   \n",
       "Contract w/o VBC Payout                  Net Rebate Payout       2.39637   \n",
       "Contract w/o VBC Payout                        Net Revenue       4.45041   \n",
       "Contract with VBC Payout (Recommended)       Gross Revenue       6.84678   \n",
       "Contract with VBC Payout (Recommended)   Net Rebate Payout       2.39323   \n",
       "Contract with VBC Payout (Recommended)         Net Revenue       4.45355   \n",
       "Contract with VBC Payout (User Defined)      Gross Revenue       6.84678   \n",
       "Contract with VBC Payout (User Defined)  Net Rebate Payout       2.03176   \n",
       "Contract with VBC Payout (User Defined)        Net Revenue       4.81503   \n",
       "\n",
       "Scenario                                   Worst     Best Lower End Higher End  \n",
       "Contract Type                                                                   \n",
       "Contract w/o VBC Payout                       NA       NA        NA         NA  \n",
       "Contract w/o VBC Payout                       NA       NA        NA         NA  \n",
       "Contract w/o VBC Payout                       NA       NA        NA         NA  \n",
       "Contract with VBC Payout (Recommended)   6.84678  6.84678   6.84678    6.84678  \n",
       "Contract with VBC Payout (Recommended)   3.42339  1.36936   2.75901    2.02588  \n",
       "Contract with VBC Payout (Recommended)   3.42339  5.47743   4.08777     4.8209  \n",
       "Contract with VBC Payout (User Defined)  6.84678  6.84678   6.84678    6.84678  \n",
       "Contract with VBC Payout (User Defined)  3.76573  1.02702   2.44184    1.61992  \n",
       "Contract with VBC Payout (User Defined)  3.08105  5.81977   4.40494    5.22686  "
      ]
     },
     "execution_count": 4,
     "metadata": {},
     "output_type": "execute_result"
    }
   ],
   "source": [
    "t1"
   ]
  },
  {
   "cell_type": "code",
   "execution_count": 5,
   "metadata": {
    "ExecuteTime": {
     "end_time": "2020-06-04T13:41:51.575005Z",
     "start_time": "2020-06-04T13:41:51.560270Z"
    }
   },
   "outputs": [
    {
     "data": {
      "text/html": [
       "<div>\n",
       "<style scoped>\n",
       "    .dataframe tbody tr th:only-of-type {\n",
       "        vertical-align: middle;\n",
       "    }\n",
       "\n",
       "    .dataframe tbody tr th {\n",
       "        vertical-align: top;\n",
       "    }\n",
       "\n",
       "    .dataframe thead th {\n",
       "        text-align: right;\n",
       "    }\n",
       "</style>\n",
       "<table border=\"1\" class=\"dataframe\">\n",
       "  <thead>\n",
       "    <tr style=\"text-align: right;\">\n",
       "      <th>Scenario</th>\n",
       "      <th>Item</th>\n",
       "      <th>Best Estimate</th>\n",
       "      <th>Worst</th>\n",
       "      <th>Best</th>\n",
       "      <th>Lower End</th>\n",
       "      <th>Higher End</th>\n",
       "    </tr>\n",
       "    <tr>\n",
       "      <th>Contract Type</th>\n",
       "      <th></th>\n",
       "      <th></th>\n",
       "      <th></th>\n",
       "      <th></th>\n",
       "      <th></th>\n",
       "      <th></th>\n",
       "    </tr>\n",
       "  </thead>\n",
       "  <tbody>\n",
       "    <tr>\n",
       "      <td>Contract w/o VBC Payout</td>\n",
       "      <td>Base Rebate Payout</td>\n",
       "      <td>2.39637</td>\n",
       "      <td>NA</td>\n",
       "      <td>NA</td>\n",
       "      <td>NA</td>\n",
       "      <td>NA</td>\n",
       "    </tr>\n",
       "    <tr>\n",
       "      <td>Contract w/o VBC Payout</td>\n",
       "      <td>Outcome Based Rebate Adjustment</td>\n",
       "      <td>0</td>\n",
       "      <td>NA</td>\n",
       "      <td>NA</td>\n",
       "      <td>NA</td>\n",
       "      <td>NA</td>\n",
       "    </tr>\n",
       "    <tr>\n",
       "      <td>Contract w/o VBC Payout</td>\n",
       "      <td>Net Rebate Payout</td>\n",
       "      <td>2.39637</td>\n",
       "      <td>NA</td>\n",
       "      <td>NA</td>\n",
       "      <td>NA</td>\n",
       "      <td>NA</td>\n",
       "    </tr>\n",
       "    <tr>\n",
       "      <td>Contract with VBC Payout (Recommended)</td>\n",
       "      <td>Base Rebate Payout</td>\n",
       "      <td>2.39637</td>\n",
       "      <td>2.39637</td>\n",
       "      <td>2.39637</td>\n",
       "      <td>2.39637</td>\n",
       "      <td>2.39637</td>\n",
       "    </tr>\n",
       "    <tr>\n",
       "      <td>Contract with VBC Payout (Recommended)</td>\n",
       "      <td>Outcome Based Rebate Adjustment</td>\n",
       "      <td>-0.00314393</td>\n",
       "      <td>1.02702</td>\n",
       "      <td>-1.02702</td>\n",
       "      <td>0.362635</td>\n",
       "      <td>-0.370495</td>\n",
       "    </tr>\n",
       "    <tr>\n",
       "      <td>Contract with VBC Payout (Recommended)</td>\n",
       "      <td>Net Rebate Payout</td>\n",
       "      <td>2.39323</td>\n",
       "      <td>3.42339</td>\n",
       "      <td>1.36936</td>\n",
       "      <td>2.75901</td>\n",
       "      <td>2.02588</td>\n",
       "    </tr>\n",
       "    <tr>\n",
       "      <td>Contract with VBC Payout (User Defined)</td>\n",
       "      <td>Base Rebate Payout</td>\n",
       "      <td>2.39637</td>\n",
       "      <td>2.39637</td>\n",
       "      <td>2.39637</td>\n",
       "      <td>2.39637</td>\n",
       "      <td>2.39637</td>\n",
       "    </tr>\n",
       "    <tr>\n",
       "      <td>Contract with VBC Payout (User Defined)</td>\n",
       "      <td>Outcome Based Rebate Adjustment</td>\n",
       "      <td>-0.364617</td>\n",
       "      <td>1.36936</td>\n",
       "      <td>-1.36936</td>\n",
       "      <td>0.0454668</td>\n",
       "      <td>-0.77645</td>\n",
       "    </tr>\n",
       "    <tr>\n",
       "      <td>Contract with VBC Payout (User Defined)</td>\n",
       "      <td>Net Rebate Payout</td>\n",
       "      <td>2.03176</td>\n",
       "      <td>3.76573</td>\n",
       "      <td>1.02702</td>\n",
       "      <td>2.44184</td>\n",
       "      <td>1.61992</td>\n",
       "    </tr>\n",
       "  </tbody>\n",
       "</table>\n",
       "</div>"
      ],
      "text/plain": [
       "Scenario                                                            Item  \\\n",
       "Contract Type                                                              \n",
       "Contract w/o VBC Payout                               Base Rebate Payout   \n",
       "Contract w/o VBC Payout                  Outcome Based Rebate Adjustment   \n",
       "Contract w/o VBC Payout                                Net Rebate Payout   \n",
       "Contract with VBC Payout (Recommended)                Base Rebate Payout   \n",
       "Contract with VBC Payout (Recommended)   Outcome Based Rebate Adjustment   \n",
       "Contract with VBC Payout (Recommended)                 Net Rebate Payout   \n",
       "Contract with VBC Payout (User Defined)               Base Rebate Payout   \n",
       "Contract with VBC Payout (User Defined)  Outcome Based Rebate Adjustment   \n",
       "Contract with VBC Payout (User Defined)                Net Rebate Payout   \n",
       "\n",
       "Scenario                                Best Estimate    Worst     Best  \\\n",
       "Contract Type                                                             \n",
       "Contract w/o VBC Payout                       2.39637       NA       NA   \n",
       "Contract w/o VBC Payout                             0       NA       NA   \n",
       "Contract w/o VBC Payout                       2.39637       NA       NA   \n",
       "Contract with VBC Payout (Recommended)        2.39637  2.39637  2.39637   \n",
       "Contract with VBC Payout (Recommended)    -0.00314393  1.02702 -1.02702   \n",
       "Contract with VBC Payout (Recommended)        2.39323  3.42339  1.36936   \n",
       "Contract with VBC Payout (User Defined)       2.39637  2.39637  2.39637   \n",
       "Contract with VBC Payout (User Defined)     -0.364617  1.36936 -1.36936   \n",
       "Contract with VBC Payout (User Defined)       2.03176  3.76573  1.02702   \n",
       "\n",
       "Scenario                                 Lower End Higher End  \n",
       "Contract Type                                                  \n",
       "Contract w/o VBC Payout                         NA         NA  \n",
       "Contract w/o VBC Payout                         NA         NA  \n",
       "Contract w/o VBC Payout                         NA         NA  \n",
       "Contract with VBC Payout (Recommended)     2.39637    2.39637  \n",
       "Contract with VBC Payout (Recommended)    0.362635  -0.370495  \n",
       "Contract with VBC Payout (Recommended)     2.75901    2.02588  \n",
       "Contract with VBC Payout (User Defined)    2.39637    2.39637  \n",
       "Contract with VBC Payout (User Defined)  0.0454668   -0.77645  \n",
       "Contract with VBC Payout (User Defined)    2.44184    1.61992  "
      ]
     },
     "execution_count": 5,
     "metadata": {},
     "output_type": "execute_result"
    }
   ],
   "source": [
    "t2"
   ]
  },
  {
   "cell_type": "code",
   "execution_count": 15,
   "metadata": {
    "ExecuteTime": {
     "end_time": "2020-06-05T03:15:32.045671Z",
     "start_time": "2020-06-05T03:15:32.031611Z"
    }
   },
   "outputs": [
    {
     "data": {
      "text/html": [
       "<div>\n",
       "<style scoped>\n",
       "    .dataframe tbody tr th:only-of-type {\n",
       "        vertical-align: middle;\n",
       "    }\n",
       "\n",
       "    .dataframe tbody tr th {\n",
       "        vertical-align: top;\n",
       "    }\n",
       "\n",
       "    .dataframe thead th {\n",
       "        text-align: right;\n",
       "    }\n",
       "</style>\n",
       "<table border=\"1\" class=\"dataframe\">\n",
       "  <thead>\n",
       "    <tr style=\"text-align: right;\">\n",
       "      <th>Scenario</th>\n",
       "      <th>Item</th>\n",
       "      <th>Best Estimate</th>\n",
       "      <th>Worst</th>\n",
       "      <th>Best</th>\n",
       "      <th>Lower End</th>\n",
       "      <th>Higher End</th>\n",
       "    </tr>\n",
       "    <tr>\n",
       "      <th>Contract Type</th>\n",
       "      <th></th>\n",
       "      <th></th>\n",
       "      <th></th>\n",
       "      <th></th>\n",
       "      <th></th>\n",
       "      <th></th>\n",
       "    </tr>\n",
       "  </thead>\n",
       "  <tbody>\n",
       "    <tr>\n",
       "      <td>Baseline</td>\n",
       "      <td>Total Cost</td>\n",
       "      <td>25.1887</td>\n",
       "      <td>0</td>\n",
       "      <td>NA</td>\n",
       "      <td>NA</td>\n",
       "      <td>NA</td>\n",
       "    </tr>\n",
       "    <tr>\n",
       "      <td>Contract w/o VBC Payout</td>\n",
       "      <td>Total Cost</td>\n",
       "      <td>22.2225</td>\n",
       "      <td>0</td>\n",
       "      <td>19.428</td>\n",
       "      <td>23.2207</td>\n",
       "      <td>21.2243</td>\n",
       "    </tr>\n",
       "    <tr>\n",
       "      <td>Contract w/o VBC Payout</td>\n",
       "      <td>Rebate Adjustment</td>\n",
       "      <td>0</td>\n",
       "      <td>0</td>\n",
       "      <td>0</td>\n",
       "      <td>0</td>\n",
       "      <td>0</td>\n",
       "    </tr>\n",
       "    <tr>\n",
       "      <td>Contract w/o VBC Payout</td>\n",
       "      <td>Total Cost (After Rebate Adj)</td>\n",
       "      <td>22.2225</td>\n",
       "      <td>25.017</td>\n",
       "      <td>19.428</td>\n",
       "      <td>23.2207</td>\n",
       "      <td>21.2243</td>\n",
       "    </tr>\n",
       "    <tr>\n",
       "      <td>Contract with VBC Payout (Recommended)</td>\n",
       "      <td>Total Cost</td>\n",
       "      <td>22.2225</td>\n",
       "      <td>25.017</td>\n",
       "      <td>19.428</td>\n",
       "      <td>23.2207</td>\n",
       "      <td>21.2243</td>\n",
       "    </tr>\n",
       "    <tr>\n",
       "      <td>Contract with VBC Payout (Recommended)</td>\n",
       "      <td>Rebate Adjustment</td>\n",
       "      <td>0.00314393</td>\n",
       "      <td>-1.02702</td>\n",
       "      <td>1.02702</td>\n",
       "      <td>-0.362635</td>\n",
       "      <td>0.370495</td>\n",
       "    </tr>\n",
       "    <tr>\n",
       "      <td>Contract with VBC Payout (Recommended)</td>\n",
       "      <td>Total Cost (After Rebate Adj)</td>\n",
       "      <td>22.2256</td>\n",
       "      <td>23.99</td>\n",
       "      <td>20.455</td>\n",
       "      <td>22.8581</td>\n",
       "      <td>21.5947</td>\n",
       "    </tr>\n",
       "    <tr>\n",
       "      <td>Contract with VBC Payout (User Defined)</td>\n",
       "      <td>Total Cost</td>\n",
       "      <td>22.2225</td>\n",
       "      <td>25.017</td>\n",
       "      <td>19.428</td>\n",
       "      <td>23.2207</td>\n",
       "      <td>21.2243</td>\n",
       "    </tr>\n",
       "    <tr>\n",
       "      <td>Contract with VBC Payout (User Defined)</td>\n",
       "      <td>Rebate Adjustment</td>\n",
       "      <td>0.364617</td>\n",
       "      <td>-1.36936</td>\n",
       "      <td>1.36936</td>\n",
       "      <td>-0.0454668</td>\n",
       "      <td>0.77645</td>\n",
       "    </tr>\n",
       "    <tr>\n",
       "      <td>Contract with VBC Payout (User Defined)</td>\n",
       "      <td>Total Cost (After Rebate Adj)</td>\n",
       "      <td>22.5871</td>\n",
       "      <td>23.6476</td>\n",
       "      <td>20.7974</td>\n",
       "      <td>23.1753</td>\n",
       "      <td>22.0007</td>\n",
       "    </tr>\n",
       "  </tbody>\n",
       "</table>\n",
       "</div>"
      ],
      "text/plain": [
       "Scenario                                                          Item  \\\n",
       "Contract Type                                                            \n",
       "Baseline                                                    Total Cost   \n",
       "Contract w/o VBC Payout                                     Total Cost   \n",
       "Contract w/o VBC Payout                              Rebate Adjustment   \n",
       "Contract w/o VBC Payout                  Total Cost (After Rebate Adj)   \n",
       "Contract with VBC Payout (Recommended)                      Total Cost   \n",
       "Contract with VBC Payout (Recommended)               Rebate Adjustment   \n",
       "Contract with VBC Payout (Recommended)   Total Cost (After Rebate Adj)   \n",
       "Contract with VBC Payout (User Defined)                     Total Cost   \n",
       "Contract with VBC Payout (User Defined)              Rebate Adjustment   \n",
       "Contract with VBC Payout (User Defined)  Total Cost (After Rebate Adj)   \n",
       "\n",
       "Scenario                                Best Estimate    Worst     Best  \\\n",
       "Contract Type                                                             \n",
       "Baseline                                      25.1887        0       NA   \n",
       "Contract w/o VBC Payout                       22.2225        0   19.428   \n",
       "Contract w/o VBC Payout                             0        0        0   \n",
       "Contract w/o VBC Payout                       22.2225   25.017   19.428   \n",
       "Contract with VBC Payout (Recommended)        22.2225   25.017   19.428   \n",
       "Contract with VBC Payout (Recommended)     0.00314393 -1.02702  1.02702   \n",
       "Contract with VBC Payout (Recommended)        22.2256    23.99   20.455   \n",
       "Contract with VBC Payout (User Defined)       22.2225   25.017   19.428   \n",
       "Contract with VBC Payout (User Defined)      0.364617 -1.36936  1.36936   \n",
       "Contract with VBC Payout (User Defined)       22.5871  23.6476  20.7974   \n",
       "\n",
       "Scenario                                 Lower End Higher End  \n",
       "Contract Type                                                  \n",
       "Baseline                                        NA         NA  \n",
       "Contract w/o VBC Payout                    23.2207    21.2243  \n",
       "Contract w/o VBC Payout                          0          0  \n",
       "Contract w/o VBC Payout                    23.2207    21.2243  \n",
       "Contract with VBC Payout (Recommended)     23.2207    21.2243  \n",
       "Contract with VBC Payout (Recommended)   -0.362635   0.370495  \n",
       "Contract with VBC Payout (Recommended)     22.8581    21.5947  \n",
       "Contract with VBC Payout (User Defined)    23.2207    21.2243  \n",
       "Contract with VBC Payout (User Defined) -0.0454668    0.77645  \n",
       "Contract with VBC Payout (User Defined)    23.1753    22.0007  "
      ]
     },
     "execution_count": 15,
     "metadata": {},
     "output_type": "execute_result"
    }
   ],
   "source": [
    "t3"
   ]
  },
  {
   "cell_type": "code",
   "execution_count": 14,
   "metadata": {
    "ExecuteTime": {
     "end_time": "2020-06-05T03:15:28.071176Z",
     "start_time": "2020-06-05T03:15:28.064956Z"
    }
   },
   "outputs": [],
   "source": [
    "t3.iloc[[0,1,2],[2]]=0"
   ]
  },
  {
   "cell_type": "code",
   "execution_count": 7,
   "metadata": {
    "ExecuteTime": {
     "end_time": "2020-06-04T17:08:38.522554Z",
     "start_time": "2020-06-04T17:08:38.516937Z"
    }
   },
   "outputs": [],
   "source": [
    "nl1 = 0\n",
    "nl2 =5\n",
    "nl3 =10\n",
    "nl4 =15\n",
    "nl5 =None\n",
    "\n",
    "r1=5\n",
    "r2=10\n",
    "r3=15\n",
    "r4=20\n",
    "r5=None\n",
    "\n",
    "p1=30\n",
    "p2=35\n",
    "p3=40\n",
    "p4=45\n",
    "p5=None\n"
   ]
  },
  {
   "cell_type": "code",
   "execution_count": 19,
   "metadata": {
    "ExecuteTime": {
     "end_time": "2020-06-04T12:33:10.462485Z",
     "start_time": "2020-06-04T12:33:10.432311Z"
    }
   },
   "outputs": [
    {
     "ename": "TypeError",
     "evalue": "'int' object is not iterable",
     "output_type": "error",
     "traceback": [
      "\u001b[1;31m---------------------------------------------------------------------------\u001b[0m",
      "\u001b[1;31mTypeError\u001b[0m                                 Traceback (most recent call last)",
      "\u001b[1;32m<ipython-input-19-c557ffd03c31>\u001b[0m in \u001b[0;36m<module>\u001b[1;34m\u001b[0m\n\u001b[0;32m      1\u001b[0m \u001b[0mvbc_l\u001b[0m \u001b[1;33m=\u001b[0m \u001b[1;33m[\u001b[0m\u001b[1;33m]\u001b[0m\u001b[1;33m\u001b[0m\u001b[1;33m\u001b[0m\u001b[0m\n\u001b[0;32m      2\u001b[0m \u001b[1;32mfor\u001b[0m \u001b[0mi\u001b[0m \u001b[1;32min\u001b[0m \u001b[0mrange\u001b[0m\u001b[1;33m(\u001b[0m\u001b[1;36m5\u001b[0m\u001b[1;33m)\u001b[0m\u001b[1;33m:\u001b[0m\u001b[1;33m\u001b[0m\u001b[1;33m\u001b[0m\u001b[0m\n\u001b[1;32m----> 3\u001b[1;33m     \u001b[0mvbc_l\u001b[0m \u001b[1;33m=\u001b[0m \u001b[0mvbc_l\u001b[0m\u001b[1;33m.\u001b[0m\u001b[0mextend\u001b[0m\u001b[1;33m(\u001b[0m\u001b[0meval\u001b[0m\u001b[1;33m(\u001b[0m\u001b[1;34m'l'\u001b[0m\u001b[1;33m+\u001b[0m\u001b[0mstr\u001b[0m\u001b[1;33m(\u001b[0m\u001b[0mi\u001b[0m\u001b[1;33m+\u001b[0m\u001b[1;36m1\u001b[0m\u001b[1;33m)\u001b[0m\u001b[1;33m)\u001b[0m\u001b[1;33m)\u001b[0m\u001b[1;33m\u001b[0m\u001b[1;33m\u001b[0m\u001b[0m\n\u001b[0m",
      "\u001b[1;31mTypeError\u001b[0m: 'int' object is not iterable"
     ]
    }
   ],
   "source": [
    "vbc_l = []\n",
    "for i in range(5):\n",
    "    \n",
    "    vbc_l = vbc_l.extend(eval('l'+str(i+1)))"
   ]
  },
  {
   "cell_type": "code",
   "execution_count": 11,
   "metadata": {
    "ExecuteTime": {
     "end_time": "2020-06-04T12:24:24.177376Z",
     "start_time": "2020-06-04T12:24:24.170568Z"
    }
   },
   "outputs": [],
   "source": [
    "vbc_l = list(set([l1, l2, l3, l4, l5]))\n",
    "vbc_r = list(set([r1, r2, r3, r4, r5]))\n",
    "vbc_p = list(set([p1, p2, p3, p4, p5]))\n",
    "input5 = {'Marketshare_L':vbc_l,\n",
    "          'Marketshare_H':vbc_r,\n",
    "          'Rebate':vbc_p}\n"
   ]
  },
  {
   "cell_type": "code",
   "execution_count": 12,
   "metadata": {
    "ExecuteTime": {
     "end_time": "2020-06-04T12:24:25.039915Z",
     "start_time": "2020-06-04T12:24:25.035741Z"
    }
   },
   "outputs": [
    {
     "data": {
      "text/plain": [
       "{'Marketshare_L': [0, 5, 10, 15, 20],\n",
       " 'Marketshare_H': [5, 10, 15, 20, 25],\n",
       " 'Rebate': [35, 40, 45, 50, 30]}"
      ]
     },
     "execution_count": 12,
     "metadata": {},
     "output_type": "execute_result"
    }
   ],
   "source": [
    "input5"
   ]
  },
  {
   "cell_type": "code",
   "execution_count": 13,
   "metadata": {
    "ExecuteTime": {
     "end_time": "2020-06-04T12:24:25.952845Z",
     "start_time": "2020-06-04T12:24:25.946039Z"
    }
   },
   "outputs": [],
   "source": [
    "Rebate_VBC_table=pd.DataFrame(input5, columns = ['Marketshare_L', 'Marketshare_H', 'Rebate'])"
   ]
  },
  {
   "cell_type": "code",
   "execution_count": 16,
   "metadata": {
    "ExecuteTime": {
     "end_time": "2020-06-04T12:24:33.931058Z",
     "start_time": "2020-06-04T12:24:33.921123Z"
    }
   },
   "outputs": [
    {
     "data": {
      "text/html": [
       "<div>\n",
       "<style scoped>\n",
       "    .dataframe tbody tr th:only-of-type {\n",
       "        vertical-align: middle;\n",
       "    }\n",
       "\n",
       "    .dataframe tbody tr th {\n",
       "        vertical-align: top;\n",
       "    }\n",
       "\n",
       "    .dataframe thead th {\n",
       "        text-align: right;\n",
       "    }\n",
       "</style>\n",
       "<table border=\"1\" class=\"dataframe\">\n",
       "  <thead>\n",
       "    <tr style=\"text-align: right;\">\n",
       "      <th></th>\n",
       "      <th>Marketshare_L</th>\n",
       "      <th>Marketshare_H</th>\n",
       "      <th>Rebate</th>\n",
       "    </tr>\n",
       "  </thead>\n",
       "  <tbody>\n",
       "    <tr>\n",
       "      <td>0</td>\n",
       "      <td>0.00</td>\n",
       "      <td>0.05</td>\n",
       "      <td>0.35</td>\n",
       "    </tr>\n",
       "    <tr>\n",
       "      <td>1</td>\n",
       "      <td>0.05</td>\n",
       "      <td>0.10</td>\n",
       "      <td>0.40</td>\n",
       "    </tr>\n",
       "    <tr>\n",
       "      <td>2</td>\n",
       "      <td>0.10</td>\n",
       "      <td>0.15</td>\n",
       "      <td>0.45</td>\n",
       "    </tr>\n",
       "    <tr>\n",
       "      <td>3</td>\n",
       "      <td>0.15</td>\n",
       "      <td>0.20</td>\n",
       "      <td>0.50</td>\n",
       "    </tr>\n",
       "    <tr>\n",
       "      <td>4</td>\n",
       "      <td>0.20</td>\n",
       "      <td>0.25</td>\n",
       "      <td>0.30</td>\n",
       "    </tr>\n",
       "  </tbody>\n",
       "</table>\n",
       "</div>"
      ],
      "text/plain": [
       "   Marketshare_L  Marketshare_H  Rebate\n",
       "0           0.00           0.05    0.35\n",
       "1           0.05           0.10    0.40\n",
       "2           0.10           0.15    0.45\n",
       "3           0.15           0.20    0.50\n",
       "4           0.20           0.25    0.30"
      ]
     },
     "execution_count": 16,
     "metadata": {},
     "output_type": "execute_result"
    }
   ],
   "source": [
    "Rebate_VBC_table"
   ]
  },
  {
   "cell_type": "code",
   "execution_count": 15,
   "metadata": {
    "ExecuteTime": {
     "end_time": "2020-06-04T12:24:28.282742Z",
     "start_time": "2020-06-04T12:24:28.277001Z"
    }
   },
   "outputs": [],
   "source": [
    "\n",
    "Rebate_VBC_table['Marketshare_L'] = Rebate_VBC_table['Marketshare_L']/100\n",
    "Rebate_VBC_table['Marketshare_H'] = Rebate_VBC_table['Marketshare_H']/100\n",
    "Rebate_VBC_table['Rebate'] = Rebate_VBC_table['Rebate']/100"
   ]
  },
  {
   "cell_type": "code",
   "execution_count": 8,
   "metadata": {
    "ExecuteTime": {
     "end_time": "2020-06-04T17:08:49.556444Z",
     "start_time": "2020-06-04T17:08:49.551370Z"
    }
   },
   "outputs": [],
   "source": [
    "novbc_l = list(filter(None,[nl1+1, nl2, nl3, nl4, nl5]))\n",
    "#novbc_r = list(filter(None,[nr1, nr2, nr3, nr4, nr5]))\n",
    "#novbc_p = list(filter(None,[np1, np2, np3, np4, np5]))\n"
   ]
  },
  {
   "cell_type": "code",
   "execution_count": 10,
   "metadata": {
    "ExecuteTime": {
     "end_time": "2020-06-04T17:09:07.106482Z",
     "start_time": "2020-06-04T17:09:07.101457Z"
    }
   },
   "outputs": [],
   "source": [
    "\n",
    "input4 = {'Marketshare_L':[novbc_l[i]-1 if i==0 else novbc_l[i] for i in range(len(novbc_l))],\n",
    "         }"
   ]
  },
  {
   "cell_type": "code",
   "execution_count": 11,
   "metadata": {
    "ExecuteTime": {
     "end_time": "2020-06-04T17:09:12.884655Z",
     "start_time": "2020-06-04T17:09:12.878951Z"
    }
   },
   "outputs": [
    {
     "data": {
      "text/plain": [
       "{'Marketshare_L': [0, 5, 10, 15]}"
      ]
     },
     "execution_count": 11,
     "metadata": {},
     "output_type": "execute_result"
    }
   ],
   "source": [
    "input4"
   ]
  },
  {
   "cell_type": "code",
   "execution_count": 16,
   "metadata": {
    "ExecuteTime": {
     "end_time": "2020-06-05T03:50:40.041110Z",
     "start_time": "2020-06-05T03:50:40.032315Z"
    }
   },
   "outputs": [],
   "source": [
    "data=[{'measures': 'Cost & Utilization Reduction', 'recom_value': None, 'tarrecom_value': None, 'taruser_value': None, 'probrecom': None, 'probuser': None, 'weight_recom': '60%', 'weight_user': '60%', 'highlight_recom': None, 'highlight_user': None, 'green_thres': None, 'yellow_thres': None, 'id': 0}, {'measures': 'CHF Related Average Cost per Patient', 'recom_value': '$30,020 ', 'tarrecom_value': '$29,630 ', 'taruser_value': '$29,630 ', 'probrecom': 'High', 'probuser': 'High', 'weight_recom': '30%', 'weight_user': '30%', 'highlight_recom': 'green', 'highlight_user': 'green', 'green_thres': 29630, 'yellow_thres': 28149, 'id': 1}, {'measures': 'CHF Related Hospitalization Rate', 'recom_value': '1150', 'tarrecom_value': '980', 'taruser_value': '980', 'probrecom': 'High', 'probuser': 'High', 'weight_recom': '30%', 'weight_user': '30%', 'highlight_recom': 'green', 'highlight_user': 'green', 'green_thres': 980, 'yellow_thres': 930, 'id': 2}, {'measures': 'Improving Disease Outcome', 'recom_value': None, 'tarrecom_value': None, 'taruser_value': None, 'probrecom': None, 'probuser': None, 'weight_recom': '40%', 'weight_user': '40%', 'highlight_recom': None, 'highlight_user': None, 'green_thres': None, 'yellow_thres': None, 'id': 9}, {'measures': 'LVEF LS Mean Change %', 'recom_value': '0%', 'tarrecom_value': '5%', 'taruser_value': '5%', 'probrecom': 'High', 'probuser': 'High', 'weight_recom': '40%', 'weight_user': '40%', 'highlight_recom': 'green', 'highlight_user': 'green', 'green_thres': 5, 'yellow_thres': 5.5, 'id': 11}]"
   ]
  },
  {
   "cell_type": "code",
   "execution_count": 17,
   "metadata": {
    "ExecuteTime": {
     "end_time": "2020-06-05T03:50:44.320555Z",
     "start_time": "2020-06-05T03:50:44.317436Z"
    }
   },
   "outputs": [],
   "source": [
    "row=data[1]"
   ]
  },
  {
   "cell_type": "code",
   "execution_count": 19,
   "metadata": {
    "ExecuteTime": {
     "end_time": "2020-06-05T08:39:17.765620Z",
     "start_time": "2020-06-05T08:39:17.760569Z"
    }
   },
   "outputs": [
    {
     "data": {
      "text/plain": [
       "False"
      ]
     },
     "execution_count": 19,
     "metadata": {},
     "output_type": "execute_result"
    }
   ],
   "source": [
    "not('a'=='a')"
   ]
  },
  {
   "cell_type": "code",
   "execution_count": null,
   "metadata": {},
   "outputs": [],
   "source": []
  }
 ],
 "metadata": {
  "kernelspec": {
   "display_name": "Python 3",
   "language": "python",
   "name": "python3"
  },
  "language_info": {
   "codemirror_mode": {
    "name": "ipython",
    "version": 3
   },
   "file_extension": ".py",
   "mimetype": "text/x-python",
   "name": "python",
   "nbconvert_exporter": "python",
   "pygments_lexer": "ipython3",
   "version": "3.7.4"
  },
  "toc": {
   "base_numbering": 1,
   "nav_menu": {},
   "number_sections": true,
   "sideBar": true,
   "skip_h1_title": false,
   "title_cell": "Table of Contents",
   "title_sidebar": "Contents",
   "toc_cell": false,
   "toc_position": {},
   "toc_section_display": true,
   "toc_window_display": false
  },
  "varInspector": {
   "cols": {
    "lenName": 16,
    "lenType": 16,
    "lenVar": 40
   },
   "kernels_config": {
    "python": {
     "delete_cmd_postfix": "",
     "delete_cmd_prefix": "del ",
     "library": "var_list.py",
     "varRefreshCmd": "print(var_dic_list())"
    },
    "r": {
     "delete_cmd_postfix": ") ",
     "delete_cmd_prefix": "rm(",
     "library": "var_list.r",
     "varRefreshCmd": "cat(var_dic_list()) "
    }
   },
   "types_to_exclude": [
    "module",
    "function",
    "builtin_function_or_method",
    "instance",
    "_Feature"
   ],
   "window_display": false
  }
 },
 "nbformat": 4,
 "nbformat_minor": 2
}
